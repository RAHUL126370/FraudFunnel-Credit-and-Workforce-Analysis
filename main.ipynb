{
 "cells": [
  {
   "cell_type": "code",
   "execution_count": 1,
   "metadata": {},
   "outputs": [],
   "source": [
    "import pandas as pd"
   ]
  },
  {
   "cell_type": "code",
   "execution_count": 4,
   "metadata": {},
   "outputs": [],
   "source": [
    "# Load the data from the Excel file\n",
    "file_path = 'C:/Users/Rahul/Downloads/AssignmentData.xlsx'\n",
    "funnel_df = pd.read_excel(file_path, sheet_name='WorkerFunnel')"
   ]
  },
  {
   "cell_type": "code",
   "execution_count": 5,
   "metadata": {},
   "outputs": [
    {
     "data": {
      "text/html": [
       "<div>\n",
       "<style scoped>\n",
       "    .dataframe tbody tr th:only-of-type {\n",
       "        vertical-align: middle;\n",
       "    }\n",
       "\n",
       "    .dataframe tbody tr th {\n",
       "        vertical-align: top;\n",
       "    }\n",
       "\n",
       "    .dataframe thead th {\n",
       "        text-align: right;\n",
       "    }\n",
       "</style>\n",
       "<table border=\"1\" class=\"dataframe\">\n",
       "  <thead>\n",
       "    <tr style=\"text-align: right;\">\n",
       "      <th></th>\n",
       "      <th>Date</th>\n",
       "      <th>Quarter</th>\n",
       "      <th>Department</th>\n",
       "      <th>Targeted Productivity</th>\n",
       "      <th>Overtime</th>\n",
       "      <th>No. of Workers</th>\n",
       "      <th>Actual Productivity</th>\n",
       "    </tr>\n",
       "  </thead>\n",
       "  <tbody>\n",
       "    <tr>\n",
       "      <th>0</th>\n",
       "      <td>2015-01-01 00:00:00</td>\n",
       "      <td>Q1</td>\n",
       "      <td>Sewing</td>\n",
       "      <td>0.8</td>\n",
       "      <td>7080</td>\n",
       "      <td>59</td>\n",
       "      <td>0.940725</td>\n",
       "    </tr>\n",
       "    <tr>\n",
       "      <th>1</th>\n",
       "      <td>2015-01-01 00:00:00</td>\n",
       "      <td>Q1</td>\n",
       "      <td>Finishing</td>\n",
       "      <td>0.75</td>\n",
       "      <td>960</td>\n",
       "      <td>8</td>\n",
       "      <td>0.8865</td>\n",
       "    </tr>\n",
       "    <tr>\n",
       "      <th>2</th>\n",
       "      <td>2015-01-01 00:00:00</td>\n",
       "      <td>Q1</td>\n",
       "      <td>Sewing</td>\n",
       "      <td>0.8</td>\n",
       "      <td>3660</td>\n",
       "      <td>30.5</td>\n",
       "      <td>0.80057</td>\n",
       "    </tr>\n",
       "    <tr>\n",
       "      <th>3</th>\n",
       "      <td>2015-01-01 00:00:00</td>\n",
       "      <td>Q1</td>\n",
       "      <td>Sewing</td>\n",
       "      <td>0.8</td>\n",
       "      <td>3660</td>\n",
       "      <td>30.5</td>\n",
       "      <td>0.80057</td>\n",
       "    </tr>\n",
       "    <tr>\n",
       "      <th>4</th>\n",
       "      <td>2015-01-01 00:00:00</td>\n",
       "      <td>Q1</td>\n",
       "      <td>Sewing</td>\n",
       "      <td>0.8</td>\n",
       "      <td>1920</td>\n",
       "      <td>56</td>\n",
       "      <td>NaN</td>\n",
       "    </tr>\n",
       "    <tr>\n",
       "      <th>...</th>\n",
       "      <td>...</td>\n",
       "      <td>...</td>\n",
       "      <td>...</td>\n",
       "      <td>...</td>\n",
       "      <td>...</td>\n",
       "      <td>...</td>\n",
       "      <td>...</td>\n",
       "    </tr>\n",
       "    <tr>\n",
       "      <th>1192</th>\n",
       "      <td>2015-11-03 00:00:00</td>\n",
       "      <td>Q2</td>\n",
       "      <td>Finishing</td>\n",
       "      <td>0.75</td>\n",
       "      <td>960</td>\n",
       "      <td>8</td>\n",
       "      <td>0.628333</td>\n",
       "    </tr>\n",
       "    <tr>\n",
       "      <th>1193</th>\n",
       "      <td>2015-11-03 00:00:00</td>\n",
       "      <td>Q2</td>\n",
       "      <td>Finishing</td>\n",
       "      <td>0.7</td>\n",
       "      <td>960</td>\n",
       "      <td>8</td>\n",
       "      <td>NaN</td>\n",
       "    </tr>\n",
       "    <tr>\n",
       "      <th>1194</th>\n",
       "      <td>2015-11-03 00:00:00</td>\n",
       "      <td>Q2</td>\n",
       "      <td>Finishing</td>\n",
       "      <td>0.65</td>\n",
       "      <td>960</td>\n",
       "      <td>8</td>\n",
       "      <td>0.625625</td>\n",
       "    </tr>\n",
       "    <tr>\n",
       "      <th>1195</th>\n",
       "      <td>2015-11-03 00:00:00</td>\n",
       "      <td>Q2</td>\n",
       "      <td>Finishing</td>\n",
       "      <td>0.75</td>\n",
       "      <td>1800</td>\n",
       "      <td>15</td>\n",
       "      <td>0.505889</td>\n",
       "    </tr>\n",
       "    <tr>\n",
       "      <th>1196</th>\n",
       "      <td>2015-11-03 00:00:00</td>\n",
       "      <td>Q2</td>\n",
       "      <td>Finishing</td>\n",
       "      <td>0.7</td>\n",
       "      <td>720</td>\n",
       "      <td>6</td>\n",
       "      <td>0.394722</td>\n",
       "    </tr>\n",
       "  </tbody>\n",
       "</table>\n",
       "<p>1197 rows × 7 columns</p>\n",
       "</div>"
      ],
      "text/plain": [
       "                     Date Quarter Department Targeted Productivity Overtime  \\\n",
       "0     2015-01-01 00:00:00      Q1     Sewing                   0.8     7080   \n",
       "1     2015-01-01 00:00:00      Q1  Finishing                  0.75      960   \n",
       "2     2015-01-01 00:00:00      Q1     Sewing                   0.8     3660   \n",
       "3     2015-01-01 00:00:00      Q1     Sewing                   0.8     3660   \n",
       "4     2015-01-01 00:00:00      Q1     Sewing                   0.8     1920   \n",
       "...                   ...     ...        ...                   ...      ...   \n",
       "1192  2015-11-03 00:00:00      Q2  Finishing                  0.75      960   \n",
       "1193  2015-11-03 00:00:00      Q2  Finishing                   0.7      960   \n",
       "1194  2015-11-03 00:00:00      Q2  Finishing                  0.65      960   \n",
       "1195  2015-11-03 00:00:00      Q2  Finishing                  0.75     1800   \n",
       "1196  2015-11-03 00:00:00      Q2  Finishing                   0.7      720   \n",
       "\n",
       "     No. of Workers Actual Productivity  \n",
       "0                59            0.940725  \n",
       "1                 8              0.8865  \n",
       "2              30.5             0.80057  \n",
       "3              30.5             0.80057  \n",
       "4                56                 NaN  \n",
       "...             ...                 ...  \n",
       "1192              8            0.628333  \n",
       "1193              8                 NaN  \n",
       "1194              8            0.625625  \n",
       "1195             15            0.505889  \n",
       "1196              6            0.394722  \n",
       "\n",
       "[1197 rows x 7 columns]"
      ]
     },
     "execution_count": 5,
     "metadata": {},
     "output_type": "execute_result"
    }
   ],
   "source": [
    "funnel_df"
   ]
  },
  {
   "cell_type": "code",
   "execution_count": 6,
   "metadata": {},
   "outputs": [
    {
     "name": "stdout",
     "output_type": "stream",
     "text": [
      "<class 'pandas.core.frame.DataFrame'>\n",
      "RangeIndex: 1197 entries, 0 to 1196\n",
      "Data columns (total 7 columns):\n",
      " #   Column                 Non-Null Count  Dtype \n",
      "---  ------                 --------------  ----- \n",
      " 0   Date                   1197 non-null   object\n",
      " 1   Quarter                1197 non-null   object\n",
      " 2   Department             1197 non-null   object\n",
      " 3   Targeted Productivity  1197 non-null   object\n",
      " 4   Overtime               1197 non-null   object\n",
      " 5   No. of Workers         1197 non-null   object\n",
      " 6   Actual Productivity    1168 non-null   object\n",
      "dtypes: object(7)\n",
      "memory usage: 65.6+ KB\n"
     ]
    }
   ],
   "source": [
    "funnel_df.info()"
   ]
  },
  {
   "cell_type": "markdown",
   "metadata": {},
   "source": [
    "EDA\n"
   ]
  },
  {
   "cell_type": "code",
   "execution_count": 7,
   "metadata": {},
   "outputs": [
    {
     "name": "stderr",
     "output_type": "stream",
     "text": [
      "C:\\Users\\Rahul\\AppData\\Local\\Temp\\ipykernel_15428\\2688518529.py:5: FutureWarning: A value is trying to be set on a copy of a DataFrame or Series through chained assignment using an inplace method.\n",
      "The behavior will change in pandas 3.0. This inplace method will never work because the intermediate object on which we are setting values always behaves as a copy.\n",
      "\n",
      "For example, when doing 'df[col].method(value, inplace=True)', try using 'df.method({col: value}, inplace=True)' or df[col] = df[col].method(value) instead, to perform the operation inplace on the original object.\n",
      "\n",
      "\n",
      "  funnel_df['Actual Productivity'].fillna(funnel_df['Actual Productivity'].mean(), inplace=True)\n"
     ]
    }
   ],
   "source": [
    "# Convert 'Actual Productivity' to numeric, coercing errors to NaN\n",
    "funnel_df['Actual Productivity'] = pd.to_numeric(funnel_df['Actual Productivity'], errors='coerce')\n",
    "\n",
    "# Handle missing values in 'Actual Productivity' by filling with the mean of the column\n",
    "funnel_df['Actual Productivity'].fillna(funnel_df['Actual Productivity'].mean(), inplace=True)"
   ]
  },
  {
   "cell_type": "code",
   "execution_count": 8,
   "metadata": {},
   "outputs": [
    {
     "name": "stdout",
     "output_type": "stream",
     "text": [
      "Missing values after handling: \n",
      "Date                     0\n",
      "Quarter                  0\n",
      "Department               0\n",
      "Targeted Productivity    0\n",
      "Overtime                 0\n",
      "No. of Workers           0\n",
      "Actual Productivity      0\n",
      "dtype: int64\n",
      "Number of duplicate rows after handling: 0\n"
     ]
    }
   ],
   "source": [
    "# Remove duplicate rows\n",
    "funnel_df.drop_duplicates(inplace=True)\n",
    "\n",
    "# Re-check for missing values and duplicates after handling\n",
    "missing_values_after = funnel_df.isnull().sum()\n",
    "duplicate_rows_after = funnel_df.duplicated().sum()\n",
    "\n",
    "# Print results\n",
    "print(f\"Missing values after handling: \\n{missing_values_after}\")\n",
    "print(f\"Number of duplicate rows after handling: {duplicate_rows_after}\")"
   ]
  },
  {
   "cell_type": "code",
   "execution_count": 11,
   "metadata": {},
   "outputs": [],
   "source": [
    "funnel_df.to_excel('Workerfunnel.xlsx',index=False)"
   ]
  }
 ],
 "metadata": {
  "kernelspec": {
   "display_name": "Python 3",
   "language": "python",
   "name": "python3"
  },
  "language_info": {
   "codemirror_mode": {
    "name": "ipython",
    "version": 3
   },
   "file_extension": ".py",
   "mimetype": "text/x-python",
   "name": "python",
   "nbconvert_exporter": "python",
   "pygments_lexer": "ipython3",
   "version": "3.11.4"
  }
 },
 "nbformat": 4,
 "nbformat_minor": 2
}
